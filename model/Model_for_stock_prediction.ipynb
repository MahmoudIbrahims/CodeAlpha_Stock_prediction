{
  "cells": [
    {
      "cell_type": "code",
      "execution_count": 1,
      "id": "9af91bfa",
      "metadata": {
        "id": "9af91bfa"
      },
      "outputs": [],
      "source": [
        "FILE_PATH =\"DS_store/MSFT.csv\"\n",
        "EXPORT_Model  = \"Stock_prediction_microsoft.pkl\""
      ]
    },
    {
      "cell_type": "code",
      "execution_count": 38,
      "id": "31718abc",
      "metadata": {
        "id": "31718abc"
      },
      "outputs": [],
      "source": [
        "import pandas as pd\n",
        "import numpy as np\n",
        "import matplotlib.pyplot as plt\n",
        "import plotly\n",
        "import plotly.express as px\n",
        "from sklearn.preprocessing import MinMaxScaler\n",
        "from tensorflow.keras.models import Sequential\n",
        "from tensorflow.keras.layers import Dense\n",
        "from tensorflow.keras.layers import LSTM\n",
        "import tensorflow as tf\n",
        "import math\n",
        "from sklearn.metrics import mean_squared_error\n",
        "import pickle as pk"
      ]
    },
    {
      "cell_type": "code",
      "source": [
        "template_style = \"plotly_dark\""
      ],
      "metadata": {
        "id": "dfUtlJ68SoBv"
      },
      "id": "dfUtlJ68SoBv",
      "execution_count": 39,
      "outputs": []
    },
    {
      "cell_type": "code",
      "execution_count": 3,
      "id": "e51162e8",
      "metadata": {
        "colab": {
          "base_uri": "https://localhost:8080/",
          "height": 143
        },
        "id": "e51162e8",
        "outputId": "0ce3bc10-9082-4714-937f-1991c3645308"
      },
      "outputs": [
        {
          "output_type": "execute_result",
          "data": {
            "text/plain": [
              "         Date        Open        High         Low       Close   Adj Close  \\\n",
              "0  2020-07-06  208.830002  211.130005  208.089996  210.699997  203.416351   \n",
              "1  2020-07-07  210.449997  214.669998  207.990005  208.250000  201.051056   \n",
              "2  2020-07-08  210.070007  213.259995  208.690002  212.830002  205.472717   \n",
              "\n",
              "     Volume  \n",
              "0  31897600  \n",
              "1  33600700  \n",
              "2  33600000  "
            ],
            "text/html": [
              "\n",
              "  <div id=\"df-61a263b4-8b9b-4606-85b2-5cf64bd2f3ec\" class=\"colab-df-container\">\n",
              "    <div>\n",
              "<style scoped>\n",
              "    .dataframe tbody tr th:only-of-type {\n",
              "        vertical-align: middle;\n",
              "    }\n",
              "\n",
              "    .dataframe tbody tr th {\n",
              "        vertical-align: top;\n",
              "    }\n",
              "\n",
              "    .dataframe thead th {\n",
              "        text-align: right;\n",
              "    }\n",
              "</style>\n",
              "<table border=\"1\" class=\"dataframe\">\n",
              "  <thead>\n",
              "    <tr style=\"text-align: right;\">\n",
              "      <th></th>\n",
              "      <th>Date</th>\n",
              "      <th>Open</th>\n",
              "      <th>High</th>\n",
              "      <th>Low</th>\n",
              "      <th>Close</th>\n",
              "      <th>Adj Close</th>\n",
              "      <th>Volume</th>\n",
              "    </tr>\n",
              "  </thead>\n",
              "  <tbody>\n",
              "    <tr>\n",
              "      <th>0</th>\n",
              "      <td>2020-07-06</td>\n",
              "      <td>208.830002</td>\n",
              "      <td>211.130005</td>\n",
              "      <td>208.089996</td>\n",
              "      <td>210.699997</td>\n",
              "      <td>203.416351</td>\n",
              "      <td>31897600</td>\n",
              "    </tr>\n",
              "    <tr>\n",
              "      <th>1</th>\n",
              "      <td>2020-07-07</td>\n",
              "      <td>210.449997</td>\n",
              "      <td>214.669998</td>\n",
              "      <td>207.990005</td>\n",
              "      <td>208.250000</td>\n",
              "      <td>201.051056</td>\n",
              "      <td>33600700</td>\n",
              "    </tr>\n",
              "    <tr>\n",
              "      <th>2</th>\n",
              "      <td>2020-07-08</td>\n",
              "      <td>210.070007</td>\n",
              "      <td>213.259995</td>\n",
              "      <td>208.690002</td>\n",
              "      <td>212.830002</td>\n",
              "      <td>205.472717</td>\n",
              "      <td>33600000</td>\n",
              "    </tr>\n",
              "  </tbody>\n",
              "</table>\n",
              "</div>\n",
              "    <div class=\"colab-df-buttons\">\n",
              "\n",
              "  <div class=\"colab-df-container\">\n",
              "    <button class=\"colab-df-convert\" onclick=\"convertToInteractive('df-61a263b4-8b9b-4606-85b2-5cf64bd2f3ec')\"\n",
              "            title=\"Convert this dataframe to an interactive table.\"\n",
              "            style=\"display:none;\">\n",
              "\n",
              "  <svg xmlns=\"http://www.w3.org/2000/svg\" height=\"24px\" viewBox=\"0 -960 960 960\">\n",
              "    <path d=\"M120-120v-720h720v720H120Zm60-500h600v-160H180v160Zm220 220h160v-160H400v160Zm0 220h160v-160H400v160ZM180-400h160v-160H180v160Zm440 0h160v-160H620v160ZM180-180h160v-160H180v160Zm440 0h160v-160H620v160Z\"/>\n",
              "  </svg>\n",
              "    </button>\n",
              "\n",
              "  <style>\n",
              "    .colab-df-container {\n",
              "      display:flex;\n",
              "      gap: 12px;\n",
              "    }\n",
              "\n",
              "    .colab-df-convert {\n",
              "      background-color: #E8F0FE;\n",
              "      border: none;\n",
              "      border-radius: 50%;\n",
              "      cursor: pointer;\n",
              "      display: none;\n",
              "      fill: #1967D2;\n",
              "      height: 32px;\n",
              "      padding: 0 0 0 0;\n",
              "      width: 32px;\n",
              "    }\n",
              "\n",
              "    .colab-df-convert:hover {\n",
              "      background-color: #E2EBFA;\n",
              "      box-shadow: 0px 1px 2px rgba(60, 64, 67, 0.3), 0px 1px 3px 1px rgba(60, 64, 67, 0.15);\n",
              "      fill: #174EA6;\n",
              "    }\n",
              "\n",
              "    .colab-df-buttons div {\n",
              "      margin-bottom: 4px;\n",
              "    }\n",
              "\n",
              "    [theme=dark] .colab-df-convert {\n",
              "      background-color: #3B4455;\n",
              "      fill: #D2E3FC;\n",
              "    }\n",
              "\n",
              "    [theme=dark] .colab-df-convert:hover {\n",
              "      background-color: #434B5C;\n",
              "      box-shadow: 0px 1px 3px 1px rgba(0, 0, 0, 0.15);\n",
              "      filter: drop-shadow(0px 1px 2px rgba(0, 0, 0, 0.3));\n",
              "      fill: #FFFFFF;\n",
              "    }\n",
              "  </style>\n",
              "\n",
              "    <script>\n",
              "      const buttonEl =\n",
              "        document.querySelector('#df-61a263b4-8b9b-4606-85b2-5cf64bd2f3ec button.colab-df-convert');\n",
              "      buttonEl.style.display =\n",
              "        google.colab.kernel.accessAllowed ? 'block' : 'none';\n",
              "\n",
              "      async function convertToInteractive(key) {\n",
              "        const element = document.querySelector('#df-61a263b4-8b9b-4606-85b2-5cf64bd2f3ec');\n",
              "        const dataTable =\n",
              "          await google.colab.kernel.invokeFunction('convertToInteractive',\n",
              "                                                    [key], {});\n",
              "        if (!dataTable) return;\n",
              "\n",
              "        const docLinkHtml = 'Like what you see? Visit the ' +\n",
              "          '<a target=\"_blank\" href=https://colab.research.google.com/notebooks/data_table.ipynb>data table notebook</a>'\n",
              "          + ' to learn more about interactive tables.';\n",
              "        element.innerHTML = '';\n",
              "        dataTable['output_type'] = 'display_data';\n",
              "        await google.colab.output.renderOutput(dataTable, element);\n",
              "        const docLink = document.createElement('div');\n",
              "        docLink.innerHTML = docLinkHtml;\n",
              "        element.appendChild(docLink);\n",
              "      }\n",
              "    </script>\n",
              "  </div>\n",
              "\n",
              "\n",
              "<div id=\"df-9e1c0446-930c-46a2-9dc8-e99b2caf2fd0\">\n",
              "  <button class=\"colab-df-quickchart\" onclick=\"quickchart('df-9e1c0446-930c-46a2-9dc8-e99b2caf2fd0')\"\n",
              "            title=\"Suggest charts\"\n",
              "            style=\"display:none;\">\n",
              "\n",
              "<svg xmlns=\"http://www.w3.org/2000/svg\" height=\"24px\"viewBox=\"0 0 24 24\"\n",
              "     width=\"24px\">\n",
              "    <g>\n",
              "        <path d=\"M19 3H5c-1.1 0-2 .9-2 2v14c0 1.1.9 2 2 2h14c1.1 0 2-.9 2-2V5c0-1.1-.9-2-2-2zM9 17H7v-7h2v7zm4 0h-2V7h2v10zm4 0h-2v-4h2v4z\"/>\n",
              "    </g>\n",
              "</svg>\n",
              "  </button>\n",
              "\n",
              "<style>\n",
              "  .colab-df-quickchart {\n",
              "      --bg-color: #E8F0FE;\n",
              "      --fill-color: #1967D2;\n",
              "      --hover-bg-color: #E2EBFA;\n",
              "      --hover-fill-color: #174EA6;\n",
              "      --disabled-fill-color: #AAA;\n",
              "      --disabled-bg-color: #DDD;\n",
              "  }\n",
              "\n",
              "  [theme=dark] .colab-df-quickchart {\n",
              "      --bg-color: #3B4455;\n",
              "      --fill-color: #D2E3FC;\n",
              "      --hover-bg-color: #434B5C;\n",
              "      --hover-fill-color: #FFFFFF;\n",
              "      --disabled-bg-color: #3B4455;\n",
              "      --disabled-fill-color: #666;\n",
              "  }\n",
              "\n",
              "  .colab-df-quickchart {\n",
              "    background-color: var(--bg-color);\n",
              "    border: none;\n",
              "    border-radius: 50%;\n",
              "    cursor: pointer;\n",
              "    display: none;\n",
              "    fill: var(--fill-color);\n",
              "    height: 32px;\n",
              "    padding: 0;\n",
              "    width: 32px;\n",
              "  }\n",
              "\n",
              "  .colab-df-quickchart:hover {\n",
              "    background-color: var(--hover-bg-color);\n",
              "    box-shadow: 0 1px 2px rgba(60, 64, 67, 0.3), 0 1px 3px 1px rgba(60, 64, 67, 0.15);\n",
              "    fill: var(--button-hover-fill-color);\n",
              "  }\n",
              "\n",
              "  .colab-df-quickchart-complete:disabled,\n",
              "  .colab-df-quickchart-complete:disabled:hover {\n",
              "    background-color: var(--disabled-bg-color);\n",
              "    fill: var(--disabled-fill-color);\n",
              "    box-shadow: none;\n",
              "  }\n",
              "\n",
              "  .colab-df-spinner {\n",
              "    border: 2px solid var(--fill-color);\n",
              "    border-color: transparent;\n",
              "    border-bottom-color: var(--fill-color);\n",
              "    animation:\n",
              "      spin 1s steps(1) infinite;\n",
              "  }\n",
              "\n",
              "  @keyframes spin {\n",
              "    0% {\n",
              "      border-color: transparent;\n",
              "      border-bottom-color: var(--fill-color);\n",
              "      border-left-color: var(--fill-color);\n",
              "    }\n",
              "    20% {\n",
              "      border-color: transparent;\n",
              "      border-left-color: var(--fill-color);\n",
              "      border-top-color: var(--fill-color);\n",
              "    }\n",
              "    30% {\n",
              "      border-color: transparent;\n",
              "      border-left-color: var(--fill-color);\n",
              "      border-top-color: var(--fill-color);\n",
              "      border-right-color: var(--fill-color);\n",
              "    }\n",
              "    40% {\n",
              "      border-color: transparent;\n",
              "      border-right-color: var(--fill-color);\n",
              "      border-top-color: var(--fill-color);\n",
              "    }\n",
              "    60% {\n",
              "      border-color: transparent;\n",
              "      border-right-color: var(--fill-color);\n",
              "    }\n",
              "    80% {\n",
              "      border-color: transparent;\n",
              "      border-right-color: var(--fill-color);\n",
              "      border-bottom-color: var(--fill-color);\n",
              "    }\n",
              "    90% {\n",
              "      border-color: transparent;\n",
              "      border-bottom-color: var(--fill-color);\n",
              "    }\n",
              "  }\n",
              "</style>\n",
              "\n",
              "  <script>\n",
              "    async function quickchart(key) {\n",
              "      const quickchartButtonEl =\n",
              "        document.querySelector('#' + key + ' button');\n",
              "      quickchartButtonEl.disabled = true;  // To prevent multiple clicks.\n",
              "      quickchartButtonEl.classList.add('colab-df-spinner');\n",
              "      try {\n",
              "        const charts = await google.colab.kernel.invokeFunction(\n",
              "            'suggestCharts', [key], {});\n",
              "      } catch (error) {\n",
              "        console.error('Error during call to suggestCharts:', error);\n",
              "      }\n",
              "      quickchartButtonEl.classList.remove('colab-df-spinner');\n",
              "      quickchartButtonEl.classList.add('colab-df-quickchart-complete');\n",
              "    }\n",
              "    (() => {\n",
              "      let quickchartButtonEl =\n",
              "        document.querySelector('#df-9e1c0446-930c-46a2-9dc8-e99b2caf2fd0 button');\n",
              "      quickchartButtonEl.style.display =\n",
              "        google.colab.kernel.accessAllowed ? 'block' : 'none';\n",
              "    })();\n",
              "  </script>\n",
              "</div>\n",
              "\n",
              "    </div>\n",
              "  </div>\n"
            ],
            "application/vnd.google.colaboratory.intrinsic+json": {
              "type": "dataframe",
              "variable_name": "df",
              "summary": "{\n  \"name\": \"df\",\n  \"rows\": 1007,\n  \"fields\": [\n    {\n      \"column\": \"Date\",\n      \"properties\": {\n        \"dtype\": \"object\",\n        \"num_unique_values\": 1007,\n        \"samples\": [\n          \"2024-03-12\",\n          \"2023-01-04\",\n          \"2023-03-21\"\n        ],\n        \"semantic_type\": \"\",\n        \"description\": \"\"\n      }\n    },\n    {\n      \"column\": \"Open\",\n      \"properties\": {\n        \"dtype\": \"number\",\n        \"std\": 63.235738067541796,\n        \"min\": 197.190002,\n        \"max\": 459.609985,\n        \"num_unique_values\": 986,\n        \"samples\": [\n          236.889999,\n          277.709991,\n          334.359985\n        ],\n        \"semantic_type\": \"\",\n        \"description\": \"\"\n      }\n    },\n    {\n      \"column\": \"High\",\n      \"properties\": {\n        \"dtype\": \"number\",\n        \"std\": 63.393709070861966,\n        \"min\": 202.710007,\n        \"max\": 468.350006,\n        \"num_unique_values\": 966,\n        \"samples\": [\n          279.369995,\n          273.450012,\n          376.940002\n        ],\n        \"semantic_type\": \"\",\n        \"description\": \"\"\n      }\n    },\n    {\n      \"column\": \"Low\",\n      \"properties\": {\n        \"dtype\": \"number\",\n        \"std\": 62.99042841811808,\n        \"min\": 196.25,\n        \"max\": 458.970001,\n        \"num_unique_values\": 976,\n        \"samples\": [\n          257.269989,\n          265.160004,\n          235.940002\n        ],\n        \"semantic_type\": \"\",\n        \"description\": \"\"\n      }\n    },\n    {\n      \"column\": \"Close\",\n      \"properties\": {\n        \"dtype\": \"number\",\n        \"std\": 63.311691189432395,\n        \"min\": 200.389999,\n        \"max\": 467.559998,\n        \"num_unique_values\": 978,\n        \"samples\": [\n          261.549988,\n          245.380005,\n          230.350006\n        ],\n        \"semantic_type\": \"\",\n        \"description\": \"\"\n      }\n    },\n    {\n      \"column\": \"Adj Close\",\n      \"properties\": {\n        \"dtype\": \"number\",\n        \"std\": 64.92438855490619,\n        \"min\": 193.930389,\n        \"max\": 467.559998,\n        \"num_unique_values\": 999,\n        \"samples\": [\n          277.684479,\n          332.377625,\n          242.870773\n        ],\n        \"semantic_type\": \"\",\n        \"description\": \"\"\n      }\n    },\n    {\n      \"column\": \"Volume\",\n      \"properties\": {\n        \"dtype\": \"number\",\n        \"std\": 10483474,\n        \"min\": 9200800,\n        \"max\": 90428900,\n        \"num_unique_values\": 1004,\n        \"samples\": [\n          34157300,\n          39585600,\n          34873300\n        ],\n        \"semantic_type\": \"\",\n        \"description\": \"\"\n      }\n    }\n  ]\n}"
            }
          },
          "metadata": {},
          "execution_count": 3
        }
      ],
      "source": [
        "df=pd.read_csv(FILE_PATH)\n",
        "df.head(3)"
      ]
    },
    {
      "cell_type": "code",
      "execution_count": 4,
      "id": "4c8a59c5",
      "metadata": {
        "colab": {
          "base_uri": "https://localhost:8080/"
        },
        "id": "4c8a59c5",
        "outputId": "70ec209c-4ee4-4694-add1-232beba5fd63"
      },
      "outputs": [
        {
          "output_type": "execute_result",
          "data": {
            "text/plain": [
              "0    210.699997\n",
              "1    208.250000\n",
              "2    212.830002\n",
              "3    214.320007\n",
              "4    213.669998\n",
              "Name: Close, dtype: float64"
            ]
          },
          "metadata": {},
          "execution_count": 4
        }
      ],
      "source": [
        "df_close=df.reset_index()[\"Close\"]\n",
        "df_close.head()"
      ]
    },
    {
      "cell_type": "code",
      "execution_count": 5,
      "id": "0f355dd1",
      "metadata": {
        "colab": {
          "base_uri": "https://localhost:8080/",
          "height": 447
        },
        "id": "0f355dd1",
        "outputId": "06dad18c-5256-4582-ed92-e32d91c2defd"
      },
      "outputs": [
        {
          "output_type": "execute_result",
          "data": {
            "text/plain": [
              "[<matplotlib.lines.Line2D at 0x795a6a0e7100>]"
            ]
          },
          "metadata": {},
          "execution_count": 5
        },
        {
          "output_type": "display_data",
          "data": {
            "text/plain": [
              "<Figure size 640x480 with 1 Axes>"
            ],
            "image/png": "[encoded data removed]"
          },
          "metadata": {}
        }
      ],
      "source": [
        "plt.plot(df_close.index,df_close,color=\"green\")"
      ]
    },
    {
      "cell_type": "code",
      "execution_count": 6,
      "id": "c364a290",
      "metadata": {
        "colab": {
          "base_uri": "https://localhost:8080/"
        },
        "id": "c364a290",
        "outputId": "bd250d9e-ec16-490f-8f71-ef68285f08c1"
      },
      "outputs": [
        {
          "output_type": "execute_result",
          "data": {
            "text/plain": [
              "array([[0.03858965],\n",
              "       [0.02941947],\n",
              "       [0.04656213],\n",
              "       [0.05213912],\n",
              "       [0.04970618],\n",
              "       [0.02500284],\n",
              "       [0.02979379],\n",
              "       [0.02863343],\n",
              "       [0.01321256],\n",
              "       [0.00931993]])"
            ]
          },
          "metadata": {},
          "execution_count": 6
        }
      ],
      "source": [
        "scaler=MinMaxScaler(feature_range=(0,1))\n",
        "df_close=scaler.fit_transform(np.array(df_close).reshape(-1,1))\n",
        "df_close[:10]"
      ]
    },
    {
      "cell_type": "code",
      "execution_count": 7,
      "id": "99fbeb9b",
      "metadata": {
        "id": "99fbeb9b"
      },
      "outputs": [],
      "source": [
        "##splitting dataset into train and test split\n",
        "training_size=int(len(df_close)*0.65)\n",
        "test_size=len(df_close)-training_size\n",
        "train_data,test_data=df_close[0:training_size,:],df_close[training_size:len(df_close),:1]"
      ]
    },
    {
      "cell_type": "code",
      "execution_count": 8,
      "id": "a63f3069",
      "metadata": {
        "colab": {
          "base_uri": "https://localhost:8080/"
        },
        "id": "a63f3069",
        "outputId": "2621a5f9-bf11-4fb1-9119-e97f37937327"
      },
      "outputs": [
        {
          "output_type": "execute_result",
          "data": {
            "text/plain": [
              "(654, 353)"
            ]
          },
          "metadata": {},
          "execution_count": 8
        }
      ],
      "source": [
        "training_size,test_size"
      ]
    },
    {
      "cell_type": "markdown",
      "id": "0ae32b8f",
      "metadata": {
        "id": "0ae32b8f"
      },
      "source": [
        "###  convert an array of values into a dataset matrix"
      ]
    },
    {
      "cell_type": "code",
      "execution_count": 9,
      "id": "86cf38bc",
      "metadata": {
        "id": "86cf38bc"
      },
      "outputs": [],
      "source": [
        "def create_dataset(dataset, time_step=1):\n",
        "    dataX, dataY = [], []\n",
        "    for i in range(len(dataset)-time_step-1):\n",
        "        a = dataset[i:(i+time_step), 0]   ###i=0, 0,1,2,3-----99   100\n",
        "        dataX.append(a)\n",
        "        dataY.append(dataset[i + time_step, 0])\n",
        "    return np.array(dataX), np.array(dataY)"
      ]
    },
    {
      "cell_type": "code",
      "execution_count": 10,
      "id": "b39f5eab",
      "metadata": {
        "id": "b39f5eab"
      },
      "outputs": [],
      "source": [
        "# reshape into X=t,t+1,t+2,t+3 and Y=t+4\n",
        "time_step = 100\n",
        "X_train, y_train = create_dataset(train_data, time_step)\n",
        "X_test, y_test = create_dataset(test_data, time_step)"
      ]
    },
    {
      "cell_type": "code",
      "execution_count": 11,
      "id": "07e59089",
      "metadata": {
        "colab": {
          "base_uri": "https://localhost:8080/"
        },
        "id": "07e59089",
        "outputId": "04a2b51d-4e5f-453b-d758-ebeb94c3ab25"
      },
      "outputs": [
        {
          "output_type": "stream",
          "name": "stdout",
          "text": [
            "X_train is shape = (553, 100)\n",
            "y_train is shape = (553,)\n",
            "X_test is shape = (252, 100)\n",
            "y_test is shape = (252,)\n"
          ]
        }
      ],
      "source": [
        "print(\"X_train is shape =\",X_train.shape)\n",
        "print(\"y_train is shape =\",y_train.shape)\n",
        "print(\"X_test is shape =\",X_test.shape)\n",
        "print(\"y_test is shape =\",y_test.shape)"
      ]
    },
    {
      "cell_type": "markdown",
      "id": "ae7b82c2",
      "metadata": {
        "id": "ae7b82c2"
      },
      "source": [
        "### reshape input to be [samples, time steps, features] which is required for LSTM"
      ]
    },
    {
      "cell_type": "code",
      "execution_count": 12,
      "id": "8a46e800",
      "metadata": {
        "colab": {
          "base_uri": "https://localhost:8080/"
        },
        "id": "8a46e800",
        "outputId": "48e68a87-4370-42cd-f3de-df29b16e1e4c"
      },
      "outputs": [
        {
          "output_type": "stream",
          "name": "stdout",
          "text": [
            "(553, 100, 1)\n",
            "(252, 100, 1)\n"
          ]
        }
      ],
      "source": [
        "X_train =X_train.reshape(X_train.shape[0],X_train.shape[1] , 1)\n",
        "X_test = X_test.reshape(X_test.shape[0],X_test.shape[1] , 1)\n",
        "print(X_train.shape)\n",
        "print(X_test.shape)"
      ]
    },
    {
      "cell_type": "markdown",
      "id": "9d204c6b",
      "metadata": {
        "id": "9d204c6b"
      },
      "source": [
        "###  Create the Stacked LSTM model"
      ]
    },
    {
      "cell_type": "code",
      "execution_count": 13,
      "id": "4f25dfcc",
      "metadata": {
        "colab": {
          "base_uri": "https://localhost:8080/"
        },
        "id": "4f25dfcc",
        "outputId": "f04bc911-6dfb-4a1a-8814-cb4e1ac292ce"
      },
      "outputs": [
        {
          "output_type": "stream",
          "name": "stdout",
          "text": [
            "Model: \"sequential\"\n",
            "_________________________________________________________________\n",
            " Layer (type)                Output Shape              Param #   \n",
            "=================================================================\n",
            " lstm (LSTM)                 (None, 100, 50)           10400     \n",
            "                                                                 \n",
            " lstm_1 (LSTM)               (None, 100, 50)           20200     \n",
            "                                                                 \n",
            " lstm_2 (LSTM)               (None, 50)                20200     \n",
            "                                                                 \n",
            " dense (Dense)               (None, 1)                 51        \n",
            "                                                                 \n",
            "=================================================================\n",
            "Total params: 50851 (198.64 KB)\n",
            "Trainable params: 50851 (198.64 KB)\n",
            "Non-trainable params: 0 (0.00 Byte)\n",
            "_________________________________________________________________\n"
          ]
        }
      ],
      "source": [
        "model=Sequential()\n",
        "model.add(LSTM(50,return_sequences=True,input_shape=(100,1)))\n",
        "model.add(LSTM(50,return_sequences=True))\n",
        "model.add(LSTM(50))\n",
        "model.add(Dense(1))\n",
        "model.compile(loss='mean_squared_error',optimizer='adam')\n",
        "model.summary()"
      ]
    },
    {
      "cell_type": "markdown",
      "id": "f46e0242",
      "metadata": {
        "id": "f46e0242"
      },
      "source": [
        "### training"
      ]
    },
    {
      "cell_type": "code",
      "execution_count": 14,
      "id": "5af7d40d",
      "metadata": {
        "colab": {
          "base_uri": "https://localhost:8080/"
        },
        "id": "5af7d40d",
        "outputId": "9feff6d0-47cf-460d-9d48-06e13498a1e2"
      },
      "outputs": [
        {
          "output_type": "stream",
          "name": "stdout",
          "text": [
            "Epoch 1/100\n",
            "9/9 [==============================] - 7s 151ms/step - loss: 0.0305 - val_loss: 0.0174\n",
            "Epoch 2/100\n",
            "9/9 [==============================] - 0s 29ms/step - loss: 0.0072 - val_loss: 0.0753\n",
            "Epoch 3/100\n",
            "9/9 [==============================] - 0s 20ms/step - loss: 0.0051 - val_loss: 0.0166\n",
            "Epoch 4/100\n",
            "9/9 [==============================] - 0s 18ms/step - loss: 0.0035 - val_loss: 0.0328\n",
            "Epoch 5/100\n",
            "9/9 [==============================] - 0s 18ms/step - loss: 0.0026 - val_loss: 0.0064\n",
            "Epoch 6/100\n",
            "9/9 [==============================] - 0s 18ms/step - loss: 0.0022 - val_loss: 0.0064\n",
            "Epoch 7/100\n",
            "9/9 [==============================] - 0s 19ms/step - loss: 0.0020 - val_loss: 0.0036\n",
            "Epoch 8/100\n",
            "9/9 [==============================] - 0s 20ms/step - loss: 0.0019 - val_loss: 0.0028\n",
            "Epoch 9/100\n",
            "9/9 [==============================] - 0s 25ms/step - loss: 0.0019 - val_loss: 0.0039\n",
            "Epoch 10/100\n",
            "9/9 [==============================] - 0s 18ms/step - loss: 0.0018 - val_loss: 0.0051\n",
            "Epoch 11/100\n",
            "9/9 [==============================] - 0s 18ms/step - loss: 0.0018 - val_loss: 0.0025\n",
            "Epoch 12/100\n",
            "9/9 [==============================] - 0s 20ms/step - loss: 0.0017 - val_loss: 0.0025\n",
            "Epoch 13/100\n",
            "9/9 [==============================] - 0s 19ms/step - loss: 0.0017 - val_loss: 0.0024\n",
            "Epoch 14/100\n",
            "9/9 [==============================] - 0s 26ms/step - loss: 0.0016 - val_loss: 0.0059\n",
            "Epoch 15/100\n",
            "9/9 [==============================] - 0s 19ms/step - loss: 0.0017 - val_loss: 0.0029\n",
            "Epoch 16/100\n",
            "9/9 [==============================] - 0s 19ms/step - loss: 0.0015 - val_loss: 0.0035\n",
            "Epoch 17/100\n",
            "9/9 [==============================] - 0s 18ms/step - loss: 0.0014 - val_loss: 0.0014\n",
            "Epoch 18/100\n",
            "9/9 [==============================] - 0s 31ms/step - loss: 0.0014 - val_loss: 0.0016\n",
            "Epoch 19/100\n",
            "9/9 [==============================] - 0s 31ms/step - loss: 0.0014 - val_loss: 0.0032\n",
            "Epoch 20/100\n",
            "9/9 [==============================] - 0s 25ms/step - loss: 0.0014 - val_loss: 0.0031\n",
            "Epoch 21/100\n",
            "9/9 [==============================] - 0s 24ms/step - loss: 0.0014 - val_loss: 0.0015\n",
            "Epoch 22/100\n",
            "9/9 [==============================] - 0s 27ms/step - loss: 0.0013 - val_loss: 0.0022\n",
            "Epoch 23/100\n",
            "9/9 [==============================] - 0s 29ms/step - loss: 0.0013 - val_loss: 0.0012\n",
            "Epoch 24/100\n",
            "9/9 [==============================] - 0s 27ms/step - loss: 0.0012 - val_loss: 0.0011\n",
            "Epoch 25/100\n",
            "9/9 [==============================] - 0s 28ms/step - loss: 0.0013 - val_loss: 0.0012\n",
            "Epoch 26/100\n",
            "9/9 [==============================] - 0s 29ms/step - loss: 0.0012 - val_loss: 0.0010\n",
            "Epoch 27/100\n",
            "9/9 [==============================] - 0s 29ms/step - loss: 0.0012 - val_loss: 0.0012\n",
            "Epoch 28/100\n",
            "9/9 [==============================] - 0s 28ms/step - loss: 0.0012 - val_loss: 0.0010\n",
            "Epoch 29/100\n",
            "9/9 [==============================] - 0s 27ms/step - loss: 0.0012 - val_loss: 9.1983e-04\n",
            "Epoch 30/100\n",
            "9/9 [==============================] - 0s 25ms/step - loss: 0.0012 - val_loss: 8.8573e-04\n",
            "Epoch 31/100\n",
            "9/9 [==============================] - 0s 20ms/step - loss: 0.0011 - val_loss: 0.0022\n",
            "Epoch 32/100\n",
            "9/9 [==============================] - 0s 18ms/step - loss: 0.0011 - val_loss: 0.0011\n",
            "Epoch 33/100\n",
            "9/9 [==============================] - 0s 17ms/step - loss: 0.0010 - val_loss: 0.0016\n",
            "Epoch 34/100\n",
            "9/9 [==============================] - 0s 18ms/step - loss: 0.0011 - val_loss: 0.0014\n",
            "Epoch 35/100\n",
            "9/9 [==============================] - 0s 18ms/step - loss: 0.0010 - val_loss: 9.5602e-04\n",
            "Epoch 36/100\n",
            "9/9 [==============================] - 0s 18ms/step - loss: 0.0010 - val_loss: 0.0011\n",
            "Epoch 37/100\n",
            "9/9 [==============================] - 0s 21ms/step - loss: 0.0010 - val_loss: 7.3717e-04\n",
            "Epoch 38/100\n",
            "9/9 [==============================] - 0s 18ms/step - loss: 9.6364e-04 - val_loss: 0.0011\n",
            "Epoch 39/100\n",
            "9/9 [==============================] - 0s 18ms/step - loss: 9.1375e-04 - val_loss: 0.0015\n",
            "Epoch 40/100\n",
            "9/9 [==============================] - 0s 17ms/step - loss: 9.1739e-04 - val_loss: 0.0011\n",
            "Epoch 41/100\n",
            "9/9 [==============================] - 0s 18ms/step - loss: 9.1009e-04 - val_loss: 8.7032e-04\n",
            "Epoch 42/100\n",
            "9/9 [==============================] - 0s 19ms/step - loss: 9.0091e-04 - val_loss: 8.7893e-04\n",
            "Epoch 43/100\n",
            "9/9 [==============================] - 0s 26ms/step - loss: 8.6608e-04 - val_loss: 6.6542e-04\n",
            "Epoch 44/100\n",
            "9/9 [==============================] - 0s 19ms/step - loss: 8.5037e-04 - val_loss: 6.7147e-04\n",
            "Epoch 45/100\n",
            "9/9 [==============================] - 0s 19ms/step - loss: 8.3475e-04 - val_loss: 0.0012\n",
            "Epoch 46/100\n",
            "9/9 [==============================] - 0s 18ms/step - loss: 8.4019e-04 - val_loss: 0.0012\n",
            "Epoch 47/100\n",
            "9/9 [==============================] - 0s 18ms/step - loss: 9.0939e-04 - val_loss: 0.0012\n",
            "Epoch 48/100\n",
            "9/9 [==============================] - 0s 19ms/step - loss: 8.7068e-04 - val_loss: 6.0309e-04\n",
            "Epoch 49/100\n",
            "9/9 [==============================] - 0s 22ms/step - loss: 8.4145e-04 - val_loss: 0.0025\n",
            "Epoch 50/100\n",
            "9/9 [==============================] - 0s 18ms/step - loss: 8.3019e-04 - val_loss: 6.6559e-04\n",
            "Epoch 51/100\n",
            "9/9 [==============================] - 0s 18ms/step - loss: 7.5880e-04 - val_loss: 6.8455e-04\n",
            "Epoch 52/100\n",
            "9/9 [==============================] - 0s 20ms/step - loss: 7.6467e-04 - val_loss: 5.2181e-04\n",
            "Epoch 53/100\n",
            "9/9 [==============================] - 0s 29ms/step - loss: 7.3159e-04 - val_loss: 5.3923e-04\n",
            "Epoch 54/100\n",
            "9/9 [==============================] - 0s 38ms/step - loss: 7.3234e-04 - val_loss: 7.8115e-04\n",
            "Epoch 55/100\n",
            "9/9 [==============================] - 0s 35ms/step - loss: 7.2848e-04 - val_loss: 5.1864e-04\n",
            "Epoch 56/100\n",
            "9/9 [==============================] - 0s 35ms/step - loss: 7.4849e-04 - val_loss: 9.1275e-04\n",
            "Epoch 57/100\n",
            "9/9 [==============================] - 0s 20ms/step - loss: 8.5825e-04 - val_loss: 0.0019\n",
            "Epoch 58/100\n",
            "9/9 [==============================] - 0s 21ms/step - loss: 8.5422e-04 - val_loss: 5.7239e-04\n",
            "Epoch 59/100\n",
            "9/9 [==============================] - 0s 19ms/step - loss: 7.7248e-04 - val_loss: 4.5773e-04\n",
            "Epoch 60/100\n",
            "9/9 [==============================] - 0s 18ms/step - loss: 6.7658e-04 - val_loss: 4.5729e-04\n",
            "Epoch 61/100\n",
            "9/9 [==============================] - 0s 18ms/step - loss: 6.6945e-04 - val_loss: 6.1911e-04\n",
            "Epoch 62/100\n",
            "9/9 [==============================] - 0s 18ms/step - loss: 6.5868e-04 - val_loss: 4.4630e-04\n",
            "Epoch 63/100\n",
            "9/9 [==============================] - 0s 21ms/step - loss: 6.5433e-04 - val_loss: 6.4160e-04\n",
            "Epoch 64/100\n",
            "9/9 [==============================] - 0s 19ms/step - loss: 6.1766e-04 - val_loss: 7.2149e-04\n",
            "Epoch 65/100\n",
            "9/9 [==============================] - 0s 18ms/step - loss: 6.2626e-04 - val_loss: 4.4110e-04\n",
            "Epoch 66/100\n",
            "9/9 [==============================] - 0s 19ms/step - loss: 6.4769e-04 - val_loss: 6.0309e-04\n",
            "Epoch 67/100\n",
            "9/9 [==============================] - 0s 24ms/step - loss: 5.9740e-04 - val_loss: 6.9469e-04\n",
            "Epoch 68/100\n",
            "9/9 [==============================] - 0s 20ms/step - loss: 5.9529e-04 - val_loss: 7.5824e-04\n",
            "Epoch 69/100\n",
            "9/9 [==============================] - 0s 22ms/step - loss: 5.9838e-04 - val_loss: 0.0011\n",
            "Epoch 70/100\n",
            "9/9 [==============================] - 0s 19ms/step - loss: 6.0447e-04 - val_loss: 4.3062e-04\n",
            "Epoch 71/100\n",
            "9/9 [==============================] - 0s 19ms/step - loss: 5.7481e-04 - val_loss: 5.1853e-04\n",
            "Epoch 72/100\n",
            "9/9 [==============================] - 0s 19ms/step - loss: 6.4322e-04 - val_loss: 4.0967e-04\n",
            "Epoch 73/100\n",
            "9/9 [==============================] - 0s 19ms/step - loss: 6.2713e-04 - val_loss: 7.6801e-04\n",
            "Epoch 74/100\n",
            "9/9 [==============================] - 0s 21ms/step - loss: 6.2787e-04 - val_loss: 0.0010\n",
            "Epoch 75/100\n",
            "9/9 [==============================] - 0s 20ms/step - loss: 6.1960e-04 - val_loss: 3.9156e-04\n",
            "Epoch 76/100\n",
            "9/9 [==============================] - 0s 18ms/step - loss: 5.7639e-04 - val_loss: 6.6770e-04\n",
            "Epoch 77/100\n",
            "9/9 [==============================] - 0s 18ms/step - loss: 5.5178e-04 - val_loss: 3.8426e-04\n",
            "Epoch 78/100\n",
            "9/9 [==============================] - 0s 23ms/step - loss: 5.3472e-04 - val_loss: 4.0634e-04\n",
            "Epoch 79/100\n",
            "9/9 [==============================] - 0s 18ms/step - loss: 5.2703e-04 - val_loss: 4.5506e-04\n",
            "Epoch 80/100\n",
            "9/9 [==============================] - 0s 21ms/step - loss: 5.2403e-04 - val_loss: 3.8469e-04\n",
            "Epoch 81/100\n",
            "9/9 [==============================] - 0s 21ms/step - loss: 5.2447e-04 - val_loss: 3.9532e-04\n",
            "Epoch 82/100\n",
            "9/9 [==============================] - 0s 19ms/step - loss: 5.2572e-04 - val_loss: 5.4066e-04\n",
            "Epoch 83/100\n",
            "9/9 [==============================] - 0s 18ms/step - loss: 5.0368e-04 - val_loss: 3.9964e-04\n",
            "Epoch 84/100\n",
            "9/9 [==============================] - 0s 18ms/step - loss: 5.1661e-04 - val_loss: 0.0013\n",
            "Epoch 85/100\n",
            "9/9 [==============================] - 0s 28ms/step - loss: 5.5427e-04 - val_loss: 4.3265e-04\n",
            "Epoch 86/100\n",
            "9/9 [==============================] - 0s 28ms/step - loss: 5.0122e-04 - val_loss: 4.2285e-04\n",
            "Epoch 87/100\n",
            "9/9 [==============================] - 0s 29ms/step - loss: 5.2296e-04 - val_loss: 6.0991e-04\n",
            "Epoch 88/100\n",
            "9/9 [==============================] - 0s 27ms/step - loss: 4.8531e-04 - val_loss: 5.8229e-04\n",
            "Epoch 89/100\n",
            "9/9 [==============================] - 0s 28ms/step - loss: 5.0923e-04 - val_loss: 0.0012\n",
            "Epoch 90/100\n",
            "9/9 [==============================] - 0s 32ms/step - loss: 4.9559e-04 - val_loss: 3.8918e-04\n",
            "Epoch 91/100\n",
            "9/9 [==============================] - 0s 28ms/step - loss: 4.8291e-04 - val_loss: 5.0243e-04\n",
            "Epoch 92/100\n",
            "9/9 [==============================] - 0s 32ms/step - loss: 5.3080e-04 - val_loss: 3.7572e-04\n",
            "Epoch 93/100\n",
            "9/9 [==============================] - 0s 30ms/step - loss: 4.8167e-04 - val_loss: 3.8534e-04\n",
            "Epoch 94/100\n",
            "9/9 [==============================] - 0s 27ms/step - loss: 4.7977e-04 - val_loss: 4.9066e-04\n",
            "Epoch 95/100\n",
            "9/9 [==============================] - 0s 26ms/step - loss: 4.6457e-04 - val_loss: 7.6741e-04\n",
            "Epoch 96/100\n",
            "9/9 [==============================] - 0s 18ms/step - loss: 4.8426e-04 - val_loss: 5.4091e-04\n",
            "Epoch 97/100\n",
            "9/9 [==============================] - 0s 19ms/step - loss: 4.6014e-04 - val_loss: 5.2038e-04\n",
            "Epoch 98/100\n",
            "9/9 [==============================] - 0s 21ms/step - loss: 5.2653e-04 - val_loss: 0.0020\n",
            "Epoch 99/100\n",
            "9/9 [==============================] - 0s 18ms/step - loss: 5.3710e-04 - val_loss: 4.1522e-04\n",
            "Epoch 100/100\n",
            "9/9 [==============================] - 0s 19ms/step - loss: 4.9922e-04 - val_loss: 7.8096e-04\n"
          ]
        },
        {
          "output_type": "execute_result",
          "data": {
            "text/plain": [
              "<keras.src.callbacks.History at 0x795a5c71da80>"
            ]
          },
          "metadata": {},
          "execution_count": 14
        }
      ],
      "source": [
        "model.fit(X_train,y_train,validation_data=(X_test,y_test),epochs=100,batch_size=64,verbose=1)"
      ]
    },
    {
      "cell_type": "markdown",
      "id": "abffbf2a",
      "metadata": {
        "id": "abffbf2a"
      },
      "source": [
        "###  Lets Do the prediction and check performance metrics"
      ]
    },
    {
      "cell_type": "code",
      "execution_count": 15,
      "id": "5fc011b8",
      "metadata": {
        "colab": {
          "base_uri": "https://localhost:8080/"
        },
        "id": "5fc011b8",
        "outputId": "1a3827d8-25bb-46a8-eb87-e9e020ffda27"
      },
      "outputs": [
        {
          "output_type": "stream",
          "name": "stdout",
          "text": [
            "18/18 [==============================] - 1s 11ms/step\n",
            "8/8 [==============================] - 0s 10ms/step\n"
          ]
        }
      ],
      "source": [
        "train_predict=model.predict(X_train)\n",
        "test_predict=model.predict(X_test)"
      ]
    },
    {
      "cell_type": "markdown",
      "id": "93296131",
      "metadata": {
        "id": "93296131"
      },
      "source": [
        "### Transformback to original form"
      ]
    },
    {
      "cell_type": "code",
      "execution_count": 16,
      "id": "198ffd25",
      "metadata": {
        "id": "198ffd25"
      },
      "outputs": [],
      "source": [
        "train_predict=scaler.inverse_transform(train_predict)\n",
        "test_predict=scaler.inverse_transform(test_predict)"
      ]
    },
    {
      "cell_type": "markdown",
      "id": "98eebbbd",
      "metadata": {
        "id": "98eebbbd"
      },
      "source": [
        "### Calculate RMSE performance metrics"
      ]
    },
    {
      "cell_type": "code",
      "execution_count": 17,
      "id": "d92e2fda",
      "metadata": {
        "colab": {
          "base_uri": "https://localhost:8080/"
        },
        "id": "d92e2fda",
        "outputId": "ddb1cfaf-b097-409d-9b92-2feb26e4d8dc"
      },
      "outputs": [
        {
          "output_type": "execute_result",
          "data": {
            "text/plain": [
              "267.76104338130114"
            ]
          },
          "metadata": {},
          "execution_count": 17
        }
      ],
      "source": [
        "math.sqrt(mean_squared_error(y_train,train_predict))"
      ]
    },
    {
      "cell_type": "markdown",
      "id": "6c7bbbea",
      "metadata": {
        "id": "6c7bbbea"
      },
      "source": [
        "### Test Data RMSE"
      ]
    },
    {
      "cell_type": "code",
      "execution_count": 18,
      "id": "825890e4",
      "metadata": {
        "colab": {
          "base_uri": "https://localhost:8080/"
        },
        "id": "825890e4",
        "outputId": "145b400a-62f0-44c1-ce78-94bac94eff7f"
      },
      "outputs": [
        {
          "output_type": "execute_result",
          "data": {
            "text/plain": [
              "375.32789129973287"
            ]
          },
          "metadata": {},
          "execution_count": 18
        }
      ],
      "source": [
        "math.sqrt(mean_squared_error(y_test,test_predict))"
      ]
    },
    {
      "cell_type": "markdown",
      "id": "e982d4db",
      "metadata": {
        "id": "e982d4db"
      },
      "source": [
        "### Plotting"
      ]
    },
    {
      "cell_type": "code",
      "execution_count": 19,
      "id": "7b9905c3",
      "metadata": {
        "colab": {
          "base_uri": "https://localhost:8080/",
          "height": 430
        },
        "id": "7b9905c3",
        "outputId": "45561784-9218-45ec-9237-0735273ce07c"
      },
      "outputs": [
        {
          "output_type": "display_data",
          "data": {
            "text/plain": [
              "<Figure size 640x480 with 1 Axes>"
            ],
            "image/png": "[encoded data removed]"
          },
          "metadata": {}
        }
      ],
      "source": [
        "# shift train predictions for plotting\n",
        "look_back=100\n",
        "trainPredictPlot = np.empty_like(df_close)\n",
        "trainPredictPlot[:, :] = np.nan\n",
        "trainPredictPlot[look_back:len(train_predict)+look_back, :] = train_predict\n",
        "# shift test predictions for plotting\n",
        "testPredictPlot = np.empty_like(df_close)\n",
        "testPredictPlot[:, :] = np.nan\n",
        "testPredictPlot[len(train_predict)+(look_back*2)+1:len(df_close)-1, :] = test_predict\n",
        "# plot baseline and predictions\n",
        "plt.plot(scaler.inverse_transform(df_close))\n",
        "plt.plot(trainPredictPlot)\n",
        "plt.plot(testPredictPlot)\n",
        "plt.show()"
      ]
    },
    {
      "cell_type": "code",
      "execution_count": 20,
      "id": "dc971c46",
      "metadata": {
        "id": "dc971c46"
      },
      "outputs": [],
      "source": [
        "train_dates =pd.to_datetime(df['Date'])"
      ]
    },
    {
      "cell_type": "code",
      "execution_count": 21,
      "id": "2d74119f",
      "metadata": {
        "colab": {
          "base_uri": "https://localhost:8080/"
        },
        "id": "2d74119f",
        "outputId": "a24b259d-d8df-4c5d-eee7-103c14e8daf0"
      },
      "outputs": [
        {
          "output_type": "execute_result",
          "data": {
            "text/plain": [
              "datetime.date(2024, 7, 5)"
            ]
          },
          "metadata": {},
          "execution_count": 21
        }
      ],
      "source": [
        "list(train_dates)[1006].date()"
      ]
    },
    {
      "cell_type": "markdown",
      "id": "78bdbaea",
      "metadata": {
        "id": "78bdbaea"
      },
      "source": [
        "### Assuming train_dates is a list of datetime objects representing time"
      ]
    },
    {
      "cell_type": "code",
      "execution_count": 22,
      "id": "630b1c5b",
      "metadata": {
        "colab": {
          "base_uri": "https://localhost:8080/"
        },
        "id": "630b1c5b",
        "outputId": "2c14c8da-105c-4b6d-ea41-49c2ed8287e7"
      },
      "outputs": [
        {
          "output_type": "execute_result",
          "data": {
            "text/plain": [
              "[datetime.date(2024, 7, 5),\n",
              " datetime.date(2024, 7, 6),\n",
              " datetime.date(2024, 7, 7),\n",
              " datetime.date(2024, 7, 8),\n",
              " datetime.date(2024, 7, 9),\n",
              " datetime.date(2024, 7, 10),\n",
              " datetime.date(2024, 7, 11),\n",
              " datetime.date(2024, 7, 12),\n",
              " datetime.date(2024, 7, 13),\n",
              " datetime.date(2024, 7, 14)]"
            ]
          },
          "metadata": {},
          "execution_count": 22
        }
      ],
      "source": [
        "# Assuming train_dates is a list of datetime objects representing time\n",
        "n_future = 90\n",
        "forecast_period_dates = pd.date_range(list(train_dates)[1006].date(), periods=n_future, freq=\"1d\").tolist()\n",
        "# Convert time to date\n",
        "forecast_dates = [date.date() for date in forecast_period_dates]\n",
        "forecast_dates[:10]"
      ]
    },
    {
      "cell_type": "code",
      "execution_count": 23,
      "id": "0a086e28",
      "metadata": {
        "colab": {
          "base_uri": "https://localhost:8080/"
        },
        "id": "0a086e28",
        "outputId": "4693fd40-f1ac-474d-993b-3580d68142a1"
      },
      "outputs": [
        {
          "output_type": "stream",
          "name": "stdout",
          "text": [
            "3/3 [==============================] - 0s 9ms/step\n"
          ]
        },
        {
          "output_type": "execute_result",
          "data": {
            "text/plain": [
              "array([[0.13719368],\n",
              "       [0.13959053],\n",
              "       [0.14051934],\n",
              "       [0.13485295],\n",
              "       [0.13573499],\n",
              "       [0.14908595],\n",
              "       [0.16483058],\n",
              "       [0.17269364],\n",
              "       [0.15904678],\n",
              "       [0.13457458]], dtype=float32)"
            ]
          },
          "metadata": {},
          "execution_count": 23
        }
      ],
      "source": [
        "forecast=model.predict(X_train[-n_future:])\n",
        "forecast[:10]"
      ]
    },
    {
      "cell_type": "code",
      "execution_count": 34,
      "id": "184f1793",
      "metadata": {
        "colab": {
          "base_uri": "https://localhost:8080/"
        },
        "id": "184f1793",
        "outputId": "f165a972-0022-4a81-a6d7-1296aaf6004f"
      },
      "outputs": [
        {
          "output_type": "execute_result",
          "data": {
            "text/plain": [
              "(90, 1)"
            ]
          },
          "metadata": {},
          "execution_count": 34
        }
      ],
      "source": [
        "forecast_copies=np.repeat(forecast,train_data.shape[1],axis=1)\n",
        "forecast_copies.shape"
      ]
    },
    {
      "cell_type": "code",
      "execution_count": 35,
      "id": "05ca1263",
      "metadata": {
        "colab": {
          "base_uri": "https://localhost:8080/"
        },
        "id": "05ca1263",
        "outputId": "5063d1e7-533d-4284-ce8d-22e387f30087"
      },
      "outputs": [
        {
          "output_type": "execute_result",
          "data": {
            "text/plain": [
              "(90, 1)"
            ]
          },
          "metadata": {},
          "execution_count": 35
        }
      ],
      "source": [
        "y_pred_futuer= scaler.inverse_transform(forecast_copies)\n",
        "y_pred_futuer.shape"
      ]
    },
    {
      "cell_type": "code",
      "execution_count": 36,
      "id": "773c7f6a",
      "metadata": {
        "colab": {
          "base_uri": "https://localhost:8080/"
        },
        "id": "773c7f6a",
        "outputId": "f9025c22-1b8f-44ac-a483-0f4ad89645d9"
      },
      "outputs": [
        {
          "output_type": "execute_result",
          "data": {
            "text/plain": [
              "90"
            ]
          },
          "metadata": {},
          "execution_count": 36
        }
      ],
      "source": [
        "df_forecast=pd.DataFrame({'Date':np.array(forecast_dates).flatten(),'Close':y_pred_futuer.flatten()})\n",
        "df_forecast['Date']=pd.to_datetime(df_forecast['Date'])\n",
        "len(df_forecast)"
      ]
    },
    {
      "cell_type": "code",
      "source": [
        "df_forecast.head()"
      ],
      "metadata": {
        "colab": {
          "base_uri": "https://localhost:8080/",
          "height": 206
        },
        "id": "ILFL0_4mSDOn",
        "outputId": "151e28c4-7d70-4447-bd60-6a1e42af8d99"
      },
      "id": "ILFL0_4mSDOn",
      "execution_count": 37,
      "outputs": [
        {
          "output_type": "execute_result",
          "data": {
            "text/plain": [
              "        Date       Close\n",
              "0 2024-07-05  237.044037\n",
              "1 2024-07-06  237.684387\n",
              "2 2024-07-07  237.932541\n",
              "3 2024-07-08  236.418655\n",
              "4 2024-07-09  236.654312"
            ],
            "text/html": [
              "\n",
              "  <div id=\"df-a7b0e1de-fe7c-4bd5-a859-0c3cee63bc5c\" class=\"colab-df-container\">\n",
              "    <div>\n",
              "<style scoped>\n",
              "    .dataframe tbody tr th:only-of-type {\n",
              "        vertical-align: middle;\n",
              "    }\n",
              "\n",
              "    .dataframe tbody tr th {\n",
              "        vertical-align: top;\n",
              "    }\n",
              "\n",
              "    .dataframe thead th {\n",
              "        text-align: right;\n",
              "    }\n",
              "</style>\n",
              "<table border=\"1\" class=\"dataframe\">\n",
              "  <thead>\n",
              "    <tr style=\"text-align: right;\">\n",
              "      <th></th>\n",
              "      <th>Date</th>\n",
              "      <th>Close</th>\n",
              "    </tr>\n",
              "  </thead>\n",
              "  <tbody>\n",
              "    <tr>\n",
              "      <th>0</th>\n",
              "      <td>2024-07-05</td>\n",
              "      <td>237.044037</td>\n",
              "    </tr>\n",
              "    <tr>\n",
              "      <th>1</th>\n",
              "      <td>2024-07-06</td>\n",
              "      <td>237.684387</td>\n",
              "    </tr>\n",
              "    <tr>\n",
              "      <th>2</th>\n",
              "      <td>2024-07-07</td>\n",
              "      <td>237.932541</td>\n",
              "    </tr>\n",
              "    <tr>\n",
              "      <th>3</th>\n",
              "      <td>2024-07-08</td>\n",
              "      <td>236.418655</td>\n",
              "    </tr>\n",
              "    <tr>\n",
              "      <th>4</th>\n",
              "      <td>2024-07-09</td>\n",
              "      <td>236.654312</td>\n",
              "    </tr>\n",
              "  </tbody>\n",
              "</table>\n",
              "</div>\n",
              "    <div class=\"colab-df-buttons\">\n",
              "\n",
              "  <div class=\"colab-df-container\">\n",
              "    <button class=\"colab-df-convert\" onclick=\"convertToInteractive('df-a7b0e1de-fe7c-4bd5-a859-0c3cee63bc5c')\"\n",
              "            title=\"Convert this dataframe to an interactive table.\"\n",
              "            style=\"display:none;\">\n",
              "\n",
              "  <svg xmlns=\"http://www.w3.org/2000/svg\" height=\"24px\" viewBox=\"0 -960 960 960\">\n",
              "    <path d=\"M120-120v-720h720v720H120Zm60-500h600v-160H180v160Zm220 220h160v-160H400v160Zm0 220h160v-160H400v160ZM180-400h160v-160H180v160Zm440 0h160v-160H620v160ZM180-180h160v-160H180v160Zm440 0h160v-160H620v160Z\"/>\n",
              "  </svg>\n",
              "    </button>\n",
              "\n",
              "  <style>\n",
              "    .colab-df-container {\n",
              "      display:flex;\n",
              "      gap: 12px;\n",
              "    }\n",
              "\n",
              "    .colab-df-convert {\n",
              "      background-color: #E8F0FE;\n",
              "      border: none;\n",
              "      border-radius: 50%;\n",
              "      cursor: pointer;\n",
              "      display: none;\n",
              "      fill: #1967D2;\n",
              "      height: 32px;\n",
              "      padding: 0 0 0 0;\n",
              "      width: 32px;\n",
              "    }\n",
              "\n",
              "    .colab-df-convert:hover {\n",
              "      background-color: #E2EBFA;\n",
              "      box-shadow: 0px 1px 2px rgba(60, 64, 67, 0.3), 0px 1px 3px 1px rgba(60, 64, 67, 0.15);\n",
              "      fill: #174EA6;\n",
              "    }\n",
              "\n",
              "    .colab-df-buttons div {\n",
              "      margin-bottom: 4px;\n",
              "    }\n",
              "\n",
              "    [theme=dark] .colab-df-convert {\n",
              "      background-color: #3B4455;\n",
              "      fill: #D2E3FC;\n",
              "    }\n",
              "\n",
              "    [theme=dark] .colab-df-convert:hover {\n",
              "      background-color: #434B5C;\n",
              "      box-shadow: 0px 1px 3px 1px rgba(0, 0, 0, 0.15);\n",
              "      filter: drop-shadow(0px 1px 2px rgba(0, 0, 0, 0.3));\n",
              "      fill: #FFFFFF;\n",
              "    }\n",
              "  </style>\n",
              "\n",
              "    <script>\n",
              "      const buttonEl =\n",
              "        document.querySelector('#df-a7b0e1de-fe7c-4bd5-a859-0c3cee63bc5c button.colab-df-convert');\n",
              "      buttonEl.style.display =\n",
              "        google.colab.kernel.accessAllowed ? 'block' : 'none';\n",
              "\n",
              "      async function convertToInteractive(key) {\n",
              "        const element = document.querySelector('#df-a7b0e1de-fe7c-4bd5-a859-0c3cee63bc5c');\n",
              "        const dataTable =\n",
              "          await google.colab.kernel.invokeFunction('convertToInteractive',\n",
              "                                                    [key], {});\n",
              "        if (!dataTable) return;\n",
              "\n",
              "        const docLinkHtml = 'Like what you see? Visit the ' +\n",
              "          '<a target=\"_blank\" href=https://colab.research.google.com/notebooks/data_table.ipynb>data table notebook</a>'\n",
              "          + ' to learn more about interactive tables.';\n",
              "        element.innerHTML = '';\n",
              "        dataTable['output_type'] = 'display_data';\n",
              "        await google.colab.output.renderOutput(dataTable, element);\n",
              "        const docLink = document.createElement('div');\n",
              "        docLink.innerHTML = docLinkHtml;\n",
              "        element.appendChild(docLink);\n",
              "      }\n",
              "    </script>\n",
              "  </div>\n",
              "\n",
              "\n",
              "<div id=\"df-554d8b57-e99a-4e6b-9a0a-20d5b87bc02a\">\n",
              "  <button class=\"colab-df-quickchart\" onclick=\"quickchart('df-554d8b57-e99a-4e6b-9a0a-20d5b87bc02a')\"\n",
              "            title=\"Suggest charts\"\n",
              "            style=\"display:none;\">\n",
              "\n",
              "<svg xmlns=\"http://www.w3.org/2000/svg\" height=\"24px\"viewBox=\"0 0 24 24\"\n",
              "     width=\"24px\">\n",
              "    <g>\n",
              "        <path d=\"M19 3H5c-1.1 0-2 .9-2 2v14c0 1.1.9 2 2 2h14c1.1 0 2-.9 2-2V5c0-1.1-.9-2-2-2zM9 17H7v-7h2v7zm4 0h-2V7h2v10zm4 0h-2v-4h2v4z\"/>\n",
              "    </g>\n",
              "</svg>\n",
              "  </button>\n",
              "\n",
              "<style>\n",
              "  .colab-df-quickchart {\n",
              "      --bg-color: #E8F0FE;\n",
              "      --fill-color: #1967D2;\n",
              "      --hover-bg-color: #E2EBFA;\n",
              "      --hover-fill-color: #174EA6;\n",
              "      --disabled-fill-color: #AAA;\n",
              "      --disabled-bg-color: #DDD;\n",
              "  }\n",
              "\n",
              "  [theme=dark] .colab-df-quickchart {\n",
              "      --bg-color: #3B4455;\n",
              "      --fill-color: #D2E3FC;\n",
              "      --hover-bg-color: #434B5C;\n",
              "      --hover-fill-color: #FFFFFF;\n",
              "      --disabled-bg-color: #3B4455;\n",
              "      --disabled-fill-color: #666;\n",
              "  }\n",
              "\n",
              "  .colab-df-quickchart {\n",
              "    background-color: var(--bg-color);\n",
              "    border: none;\n",
              "    border-radius: 50%;\n",
              "    cursor: pointer;\n",
              "    display: none;\n",
              "    fill: var(--fill-color);\n",
              "    height: 32px;\n",
              "    padding: 0;\n",
              "    width: 32px;\n",
              "  }\n",
              "\n",
              "  .colab-df-quickchart:hover {\n",
              "    background-color: var(--hover-bg-color);\n",
              "    box-shadow: 0 1px 2px rgba(60, 64, 67, 0.3), 0 1px 3px 1px rgba(60, 64, 67, 0.15);\n",
              "    fill: var(--button-hover-fill-color);\n",
              "  }\n",
              "\n",
              "  .colab-df-quickchart-complete:disabled,\n",
              "  .colab-df-quickchart-complete:disabled:hover {\n",
              "    background-color: var(--disabled-bg-color);\n",
              "    fill: var(--disabled-fill-color);\n",
              "    box-shadow: none;\n",
              "  }\n",
              "\n",
              "  .colab-df-spinner {\n",
              "    border: 2px solid var(--fill-color);\n",
              "    border-color: transparent;\n",
              "    border-bottom-color: var(--fill-color);\n",
              "    animation:\n",
              "      spin 1s steps(1) infinite;\n",
              "  }\n",
              "\n",
              "  @keyframes spin {\n",
              "    0% {\n",
              "      border-color: transparent;\n",
              "      border-bottom-color: var(--fill-color);\n",
              "      border-left-color: var(--fill-color);\n",
              "    }\n",
              "    20% {\n",
              "      border-color: transparent;\n",
              "      border-left-color: var(--fill-color);\n",
              "      border-top-color: var(--fill-color);\n",
              "    }\n",
              "    30% {\n",
              "      border-color: transparent;\n",
              "      border-left-color: var(--fill-color);\n",
              "      border-top-color: var(--fill-color);\n",
              "      border-right-color: var(--fill-color);\n",
              "    }\n",
              "    40% {\n",
              "      border-color: transparent;\n",
              "      border-right-color: var(--fill-color);\n",
              "      border-top-color: var(--fill-color);\n",
              "    }\n",
              "    60% {\n",
              "      border-color: transparent;\n",
              "      border-right-color: var(--fill-color);\n",
              "    }\n",
              "    80% {\n",
              "      border-color: transparent;\n",
              "      border-right-color: var(--fill-color);\n",
              "      border-bottom-color: var(--fill-color);\n",
              "    }\n",
              "    90% {\n",
              "      border-color: transparent;\n",
              "      border-bottom-color: var(--fill-color);\n",
              "    }\n",
              "  }\n",
              "</style>\n",
              "\n",
              "  <script>\n",
              "    async function quickchart(key) {\n",
              "      const quickchartButtonEl =\n",
              "        document.querySelector('#' + key + ' button');\n",
              "      quickchartButtonEl.disabled = true;  // To prevent multiple clicks.\n",
              "      quickchartButtonEl.classList.add('colab-df-spinner');\n",
              "      try {\n",
              "        const charts = await google.colab.kernel.invokeFunction(\n",
              "            'suggestCharts', [key], {});\n",
              "      } catch (error) {\n",
              "        console.error('Error during call to suggestCharts:', error);\n",
              "      }\n",
              "      quickchartButtonEl.classList.remove('colab-df-spinner');\n",
              "      quickchartButtonEl.classList.add('colab-df-quickchart-complete');\n",
              "    }\n",
              "    (() => {\n",
              "      let quickchartButtonEl =\n",
              "        document.querySelector('#df-554d8b57-e99a-4e6b-9a0a-20d5b87bc02a button');\n",
              "      quickchartButtonEl.style.display =\n",
              "        google.colab.kernel.accessAllowed ? 'block' : 'none';\n",
              "    })();\n",
              "  </script>\n",
              "</div>\n",
              "\n",
              "    </div>\n",
              "  </div>\n"
            ],
            "application/vnd.google.colaboratory.intrinsic+json": {
              "type": "dataframe",
              "variable_name": "df_forecast",
              "summary": "{\n  \"name\": \"df_forecast\",\n  \"rows\": 90,\n  \"fields\": [\n    {\n      \"column\": \"Date\",\n      \"properties\": {\n        \"dtype\": \"date\",\n        \"min\": \"2024-07-05 00:00:00\",\n        \"max\": \"2024-10-02 00:00:00\",\n        \"num_unique_values\": 90,\n        \"samples\": [\n          \"2024-08-14 00:00:00\",\n          \"2024-07-27 00:00:00\",\n          \"2024-08-29 00:00:00\"\n        ],\n        \"semantic_type\": \"\",\n        \"description\": \"\"\n      }\n    },\n    {\n      \"column\": \"Close\",\n      \"properties\": {\n        \"dtype\": \"float32\",\n        \"num_unique_values\": 90,\n        \"samples\": [\n          240.37188720703125,\n          235.11288452148438,\n          253.84524536132812\n        ],\n        \"semantic_type\": \"\",\n        \"description\": \"\"\n      }\n    }\n  ]\n}"
            }
          },
          "metadata": {},
          "execution_count": 37
        }
      ]
    },
    {
      "cell_type": "code",
      "execution_count": 40,
      "id": "8e644690",
      "metadata": {
        "colab": {
          "base_uri": "https://localhost:8080/",
          "height": 542
        },
        "id": "8e644690",
        "outputId": "ebb5965e-a907-455d-81b2-b85435dc6809"
      },
      "outputs": [
        {
          "output_type": "display_data",
          "data": {
            "text/html": [
              "<html>\n",
              "<head><meta charset=\"utf-8\" /></head>\n",
              "<body>\n",
              "    <div>            <script src=\"https://cdnjs.cloudflare.com/ajax/libs/mathjax/2.7.5/MathJax.js?config=TeX-AMS-MML_SVG\"></script><script type=\"text/javascript\">if (window.MathJax && window.MathJax.Hub && window.MathJax.Hub.Config) {window.MathJax.Hub.Config({SVG: {font: \"STIX-Web\"}});}</script>                <script type=\"text/javascript\">window.PlotlyConfig = {MathJaxConfig: 'local'};</script>\n",
              "        <script charset=\"utf-8\" src=\"https://cdn.plot.ly/plotly-2.24.1.min.js\"></script>                <div id=\"712a6205-072b-43f6-a835-2513056ff3ae\" class=\"plotly-graph-div\" style=\"height:525px; width:100%;\"></div>            <script type=\"text/javascript\">                                    window.PLOTLYENV=window.PLOTLYENV || {};                                    if (document.getElementById(\"712a6205-072b-43f6-a835-2513056ff3ae\")) {                    Plotly.newPlot(                        \"712a6205-072b-43f6-a835-2513056ff3ae\",                        [{\"hovertemplate\":\"Date=%{x}\\u003cbr\\u003eClose=%{y}\\u003cextra\\u003e\\u003c\\u002fextra\\u003e\",\"legendgroup\":\"\",\"line\":{\"color\":\"#636efa\",\"dash\":\"solid\"},\"marker\":{\"symbol\":\"circle\"},\"mode\":\"lines\",\"name\":\"\",\"orientation\":\"v\",\"showlegend\":false,\"x\":[\"2024-07-05T00:00:00\",\"2024-07-06T00:00:00\",\"2024-07-07T00:00:00\",\"2024-07-08T00:00:00\",\"2024-07-09T00:00:00\",\"2024-07-10T00:00:00\",\"2024-07-11T00:00:00\",\"2024-07-12T00:00:00\",\"2024-07-13T00:00:00\",\"2024-07-14T00:00:00\",\"2024-07-15T00:00:00\",\"2024-07-16T00:00:00\",\"2024-07-17T00:00:00\",\"2024-07-18T00:00:00\",\"2024-07-19T00:00:00\",\"2024-07-20T00:00:00\",\"2024-07-21T00:00:00\",\"2024-07-22T00:00:00\",\"2024-07-23T00:00:00\",\"2024-07-24T00:00:00\",\"2024-07-25T00:00:00\",\"2024-07-26T00:00:00\",\"2024-07-27T00:00:00\",\"2024-07-28T00:00:00\",\"2024-07-29T00:00:00\",\"2024-07-30T00:00:00\",\"2024-07-31T00:00:00\",\"2024-08-01T00:00:00\",\"2024-08-02T00:00:00\",\"2024-08-03T00:00:00\",\"2024-08-04T00:00:00\",\"2024-08-05T00:00:00\",\"2024-08-06T00:00:00\",\"2024-08-07T00:00:00\",\"2024-08-08T00:00:00\",\"2024-08-09T00:00:00\",\"2024-08-10T00:00:00\",\"2024-08-11T00:00:00\",\"2024-08-12T00:00:00\",\"2024-08-13T00:00:00\",\"2024-08-14T00:00:00\",\"2024-08-15T00:00:00\",\"2024-08-16T00:00:00\",\"2024-08-17T00:00:00\",\"2024-08-18T00:00:00\",\"2024-08-19T00:00:00\",\"2024-08-20T00:00:00\",\"2024-08-21T00:00:00\",\"2024-08-22T00:00:00\",\"2024-08-23T00:00:00\",\"2024-08-24T00:00:00\",\"2024-08-25T00:00:00\",\"2024-08-26T00:00:00\",\"2024-08-27T00:00:00\",\"2024-08-28T00:00:00\",\"2024-08-29T00:00:00\",\"2024-08-30T00:00:00\",\"2024-08-31T00:00:00\",\"2024-09-01T00:00:00\",\"2024-09-02T00:00:00\",\"2024-09-03T00:00:00\",\"2024-09-04T00:00:00\",\"2024-09-05T00:00:00\",\"2024-09-06T00:00:00\",\"2024-09-07T00:00:00\",\"2024-09-08T00:00:00\",\"2024-09-09T00:00:00\",\"2024-09-10T00:00:00\",\"2024-09-11T00:00:00\",\"2024-09-12T00:00:00\",\"2024-09-13T00:00:00\",\"2024-09-14T00:00:00\",\"2024-09-15T00:00:00\",\"2024-09-16T00:00:00\",\"2024-09-17T00:00:00\",\"2024-09-18T00:00:00\",\"2024-09-19T00:00:00\",\"2024-09-20T00:00:00\",\"2024-09-21T00:00:00\",\"2024-09-22T00:00:00\",\"2024-09-23T00:00:00\",\"2024-09-24T00:00:00\",\"2024-09-25T00:00:00\",\"2024-09-26T00:00:00\",\"2024-09-27T00:00:00\",\"2024-09-28T00:00:00\",\"2024-09-29T00:00:00\",\"2024-09-30T00:00:00\",\"2024-10-01T00:00:00\",\"2024-10-02T00:00:00\"],\"xaxis\":\"x\",\"y\":[237.04403686523438,237.68438720703125,237.9325408935547,236.4186553955078,236.65431213378906,240.22128295898438,244.4277801513672,246.52854919433594,242.8825225830078,236.34429931640625,230.2015380859375,226.6919708251953,227.64572143554688,228.942626953125,231.80250549316406,234.8983612060547,236.5006561279297,236.62657165527344,237.63796997070312,240.44326782226562,244.32778930664062,241.6733856201172,235.11288452148438,231.8950653076172,230.8426971435547,229.90623474121094,227.0873260498047,222.7792510986328,220.6973114013672,221.89610290527344,224.59754943847656,226.0921630859375,230.56739807128906,236.9265594482422,240.86770629882812,242.0260772705078,241.38279724121094,240.2534637451172,239.33950805664062,239.18385314941406,240.37188720703125,242.6098175048828,244.54110717773438,243.81356811523438,241.5525360107422,244.05624389648438,248.33876037597656,251.7664031982422,251.71475219726562,248.28189086914062,244.5699005126953,243.4287567138672,243.4014434814453,245.95751953125,250.28103637695312,253.84524536132812,252.69451904296875,248.2117919921875,242.9248504638672,240.0286865234375,240.2292938232422,239.74331665039062,238.92454528808594,237.7287139892578,236.0636749267578,236.5478057861328,237.68533325195312,238.50347900390625,235.8665313720703,230.563232421875,226.63638305664062,225.3881378173828,226.157470703125,229.17092895507812,233.07415771484375,236.31552124023438,238.3949432373047,237.99267578125,235.41152954101562,234.94764709472656,236.6924591064453,238.78517150878906,239.7848663330078,241.95989990234375,244.27108764648438,244.14553833007812,244.29820251464844,246.35861206054688,252.6350860595703,256.76092529296875],\"yaxis\":\"y\",\"type\":\"scatter\"}],                        {\"template\":{\"data\":{\"barpolar\":[{\"marker\":{\"line\":{\"color\":\"rgb(17,17,17)\",\"width\":0.5},\"pattern\":{\"fillmode\":\"overlay\",\"size\":10,\"solidity\":0.2}},\"type\":\"barpolar\"}],\"bar\":[{\"error_x\":{\"color\":\"#f2f5fa\"},\"error_y\":{\"color\":\"#f2f5fa\"},\"marker\":{\"line\":{\"color\":\"rgb(17,17,17)\",\"width\":0.5},\"pattern\":{\"fillmode\":\"overlay\",\"size\":10,\"solidity\":0.2}},\"type\":\"bar\"}],\"carpet\":[{\"aaxis\":{\"endlinecolor\":\"#A2B1C6\",\"gridcolor\":\"#506784\",\"linecolor\":\"#506784\",\"minorgridcolor\":\"#506784\",\"startlinecolor\":\"#A2B1C6\"},\"baxis\":{\"endlinecolor\":\"#A2B1C6\",\"gridcolor\":\"#506784\",\"linecolor\":\"#506784\",\"minorgridcolor\":\"#506784\",\"startlinecolor\":\"#A2B1C6\"},\"type\":\"carpet\"}],\"choropleth\":[{\"colorbar\":{\"outlinewidth\":0,\"ticks\":\"\"},\"type\":\"choropleth\"}],\"contourcarpet\":[{\"colorbar\":{\"outlinewidth\":0,\"ticks\":\"\"},\"type\":\"contourcarpet\"}],\"contour\":[{\"colorbar\":{\"outlinewidth\":0,\"ticks\":\"\"},\"colorscale\":[[0.0,\"#0d0887\"],[0.1111111111111111,\"#46039f\"],[0.2222222222222222,\"#7201a8\"],[0.3333333333333333,\"#9c179e\"],[0.4444444444444444,\"#bd3786\"],[0.5555555555555556,\"#d8576b\"],[0.6666666666666666,\"#ed7953\"],[0.7777777777777778,\"#fb9f3a\"],[0.8888888888888888,\"#fdca26\"],[1.0,\"#f0f921\"]],\"type\":\"contour\"}],\"heatmapgl\":[{\"colorbar\":{\"outlinewidth\":0,\"ticks\":\"\"},\"colorscale\":[[0.0,\"#0d0887\"],[0.1111111111111111,\"#46039f\"],[0.2222222222222222,\"#7201a8\"],[0.3333333333333333,\"#9c179e\"],[0.4444444444444444,\"#bd3786\"],[0.5555555555555556,\"#d8576b\"],[0.6666666666666666,\"#ed7953\"],[0.7777777777777778,\"#fb9f3a\"],[0.8888888888888888,\"#fdca26\"],[1.0,\"#f0f921\"]],\"type\":\"heatmapgl\"}],\"heatmap\":[{\"colorbar\":{\"outlinewidth\":0,\"ticks\":\"\"},\"colorscale\":[[0.0,\"#0d0887\"],[0.1111111111111111,\"#46039f\"],[0.2222222222222222,\"#7201a8\"],[0.3333333333333333,\"#9c179e\"],[0.4444444444444444,\"#bd3786\"],[0.5555555555555556,\"#d8576b\"],[0.6666666666666666,\"#ed7953\"],[0.7777777777777778,\"#fb9f3a\"],[0.8888888888888888,\"#fdca26\"],[1.0,\"#f0f921\"]],\"type\":\"heatmap\"}],\"histogram2dcontour\":[{\"colorbar\":{\"outlinewidth\":0,\"ticks\":\"\"},\"colorscale\":[[0.0,\"#0d0887\"],[0.1111111111111111,\"#46039f\"],[0.2222222222222222,\"#7201a8\"],[0.3333333333333333,\"#9c179e\"],[0.4444444444444444,\"#bd3786\"],[0.5555555555555556,\"#d8576b\"],[0.6666666666666666,\"#ed7953\"],[0.7777777777777778,\"#fb9f3a\"],[0.8888888888888888,\"#fdca26\"],[1.0,\"#f0f921\"]],\"type\":\"histogram2dcontour\"}],\"histogram2d\":[{\"colorbar\":{\"outlinewidth\":0,\"ticks\":\"\"},\"colorscale\":[[0.0,\"#0d0887\"],[0.1111111111111111,\"#46039f\"],[0.2222222222222222,\"#7201a8\"],[0.3333333333333333,\"#9c179e\"],[0.4444444444444444,\"#bd3786\"],[0.5555555555555556,\"#d8576b\"],[0.6666666666666666,\"#ed7953\"],[0.7777777777777778,\"#fb9f3a\"],[0.8888888888888888,\"#fdca26\"],[1.0,\"#f0f921\"]],\"type\":\"histogram2d\"}],\"histogram\":[{\"marker\":{\"pattern\":{\"fillmode\":\"overlay\",\"size\":10,\"solidity\":0.2}},\"type\":\"histogram\"}],\"mesh3d\":[{\"colorbar\":{\"outlinewidth\":0,\"ticks\":\"\"},\"type\":\"mesh3d\"}],\"parcoords\":[{\"line\":{\"colorbar\":{\"outlinewidth\":0,\"ticks\":\"\"}},\"type\":\"parcoords\"}],\"pie\":[{\"automargin\":true,\"type\":\"pie\"}],\"scatter3d\":[{\"line\":{\"colorbar\":{\"outlinewidth\":0,\"ticks\":\"\"}},\"marker\":{\"colorbar\":{\"outlinewidth\":0,\"ticks\":\"\"}},\"type\":\"scatter3d\"}],\"scattercarpet\":[{\"marker\":{\"colorbar\":{\"outlinewidth\":0,\"ticks\":\"\"}},\"type\":\"scattercarpet\"}],\"scattergeo\":[{\"marker\":{\"colorbar\":{\"outlinewidth\":0,\"ticks\":\"\"}},\"type\":\"scattergeo\"}],\"scattergl\":[{\"marker\":{\"line\":{\"color\":\"#283442\"}},\"type\":\"scattergl\"}],\"scattermapbox\":[{\"marker\":{\"colorbar\":{\"outlinewidth\":0,\"ticks\":\"\"}},\"type\":\"scattermapbox\"}],\"scatterpolargl\":[{\"marker\":{\"colorbar\":{\"outlinewidth\":0,\"ticks\":\"\"}},\"type\":\"scatterpolargl\"}],\"scatterpolar\":[{\"marker\":{\"colorbar\":{\"outlinewidth\":0,\"ticks\":\"\"}},\"type\":\"scatterpolar\"}],\"scatter\":[{\"marker\":{\"line\":{\"color\":\"#283442\"}},\"type\":\"scatter\"}],\"scatterternary\":[{\"marker\":{\"colorbar\":{\"outlinewidth\":0,\"ticks\":\"\"}},\"type\":\"scatterternary\"}],\"surface\":[{\"colorbar\":{\"outlinewidth\":0,\"ticks\":\"\"},\"colorscale\":[[0.0,\"#0d0887\"],[0.1111111111111111,\"#46039f\"],[0.2222222222222222,\"#7201a8\"],[0.3333333333333333,\"#9c179e\"],[0.4444444444444444,\"#bd3786\"],[0.5555555555555556,\"#d8576b\"],[0.6666666666666666,\"#ed7953\"],[0.7777777777777778,\"#fb9f3a\"],[0.8888888888888888,\"#fdca26\"],[1.0,\"#f0f921\"]],\"type\":\"surface\"}],\"table\":[{\"cells\":{\"fill\":{\"color\":\"#506784\"},\"line\":{\"color\":\"rgb(17,17,17)\"}},\"header\":{\"fill\":{\"color\":\"#2a3f5f\"},\"line\":{\"color\":\"rgb(17,17,17)\"}},\"type\":\"table\"}]},\"layout\":{\"annotationdefaults\":{\"arrowcolor\":\"#f2f5fa\",\"arrowhead\":0,\"arrowwidth\":1},\"autotypenumbers\":\"strict\",\"coloraxis\":{\"colorbar\":{\"outlinewidth\":0,\"ticks\":\"\"}},\"colorscale\":{\"diverging\":[[0,\"#8e0152\"],[0.1,\"#c51b7d\"],[0.2,\"#de77ae\"],[0.3,\"#f1b6da\"],[0.4,\"#fde0ef\"],[0.5,\"#f7f7f7\"],[0.6,\"#e6f5d0\"],[0.7,\"#b8e186\"],[0.8,\"#7fbc41\"],[0.9,\"#4d9221\"],[1,\"#276419\"]],\"sequential\":[[0.0,\"#0d0887\"],[0.1111111111111111,\"#46039f\"],[0.2222222222222222,\"#7201a8\"],[0.3333333333333333,\"#9c179e\"],[0.4444444444444444,\"#bd3786\"],[0.5555555555555556,\"#d8576b\"],[0.6666666666666666,\"#ed7953\"],[0.7777777777777778,\"#fb9f3a\"],[0.8888888888888888,\"#fdca26\"],[1.0,\"#f0f921\"]],\"sequentialminus\":[[0.0,\"#0d0887\"],[0.1111111111111111,\"#46039f\"],[0.2222222222222222,\"#7201a8\"],[0.3333333333333333,\"#9c179e\"],[0.4444444444444444,\"#bd3786\"],[0.5555555555555556,\"#d8576b\"],[0.6666666666666666,\"#ed7953\"],[0.7777777777777778,\"#fb9f3a\"],[0.8888888888888888,\"#fdca26\"],[1.0,\"#f0f921\"]]},\"colorway\":[\"#636efa\",\"#EF553B\",\"#00cc96\",\"#ab63fa\",\"#FFA15A\",\"#19d3f3\",\"#FF6692\",\"#B6E880\",\"#FF97FF\",\"#FECB52\"],\"font\":{\"color\":\"#f2f5fa\"},\"geo\":{\"bgcolor\":\"rgb(17,17,17)\",\"lakecolor\":\"rgb(17,17,17)\",\"landcolor\":\"rgb(17,17,17)\",\"showlakes\":true,\"showland\":true,\"subunitcolor\":\"#506784\"},\"hoverlabel\":{\"align\":\"left\"},\"hovermode\":\"closest\",\"mapbox\":{\"style\":\"dark\"},\"paper_bgcolor\":\"rgb(17,17,17)\",\"plot_bgcolor\":\"rgb(17,17,17)\",\"polar\":{\"angularaxis\":{\"gridcolor\":\"#506784\",\"linecolor\":\"#506784\",\"ticks\":\"\"},\"bgcolor\":\"rgb(17,17,17)\",\"radialaxis\":{\"gridcolor\":\"#506784\",\"linecolor\":\"#506784\",\"ticks\":\"\"}},\"scene\":{\"xaxis\":{\"backgroundcolor\":\"rgb(17,17,17)\",\"gridcolor\":\"#506784\",\"gridwidth\":2,\"linecolor\":\"#506784\",\"showbackground\":true,\"ticks\":\"\",\"zerolinecolor\":\"#C8D4E3\"},\"yaxis\":{\"backgroundcolor\":\"rgb(17,17,17)\",\"gridcolor\":\"#506784\",\"gridwidth\":2,\"linecolor\":\"#506784\",\"showbackground\":true,\"ticks\":\"\",\"zerolinecolor\":\"#C8D4E3\"},\"zaxis\":{\"backgroundcolor\":\"rgb(17,17,17)\",\"gridcolor\":\"#506784\",\"gridwidth\":2,\"linecolor\":\"#506784\",\"showbackground\":true,\"ticks\":\"\",\"zerolinecolor\":\"#C8D4E3\"}},\"shapedefaults\":{\"line\":{\"color\":\"#f2f5fa\"}},\"sliderdefaults\":{\"bgcolor\":\"#C8D4E3\",\"bordercolor\":\"rgb(17,17,17)\",\"borderwidth\":1,\"tickwidth\":0},\"ternary\":{\"aaxis\":{\"gridcolor\":\"#506784\",\"linecolor\":\"#506784\",\"ticks\":\"\"},\"baxis\":{\"gridcolor\":\"#506784\",\"linecolor\":\"#506784\",\"ticks\":\"\"},\"bgcolor\":\"rgb(17,17,17)\",\"caxis\":{\"gridcolor\":\"#506784\",\"linecolor\":\"#506784\",\"ticks\":\"\"}},\"title\":{\"x\":0.05},\"updatemenudefaults\":{\"bgcolor\":\"#506784\",\"borderwidth\":0},\"xaxis\":{\"automargin\":true,\"gridcolor\":\"#283442\",\"linecolor\":\"#506784\",\"ticks\":\"\",\"title\":{\"standoff\":15},\"zerolinecolor\":\"#283442\",\"zerolinewidth\":2},\"yaxis\":{\"automargin\":true,\"gridcolor\":\"#283442\",\"linecolor\":\"#506784\",\"ticks\":\"\",\"title\":{\"standoff\":15},\"zerolinecolor\":\"#283442\",\"zerolinewidth\":2}}},\"xaxis\":{\"anchor\":\"y\",\"domain\":[0.0,1.0],\"title\":{\"text\":\"Date\"}},\"yaxis\":{\"anchor\":\"x\",\"domain\":[0.0,1.0],\"title\":{\"text\":\"Close\"}},\"legend\":{\"tracegroupgap\":0},\"title\":{\"text\":\"\\u003cb\\u003eprediction for 90 days\\u003c\\u002fb\\u003e\"}},                        {\"responsive\": true}                    ).then(function(){\n",
              "                            \n",
              "var gd = document.getElementById('712a6205-072b-43f6-a835-2513056ff3ae');\n",
              "var x = new MutationObserver(function (mutations, observer) {{\n",
              "        var display = window.getComputedStyle(gd).display;\n",
              "        if (!display || display === 'none') {{\n",
              "            console.log([gd, 'removed!']);\n",
              "            Plotly.purge(gd);\n",
              "            observer.disconnect();\n",
              "        }}\n",
              "}});\n",
              "\n",
              "// Listen for the removal of the full notebook cells\n",
              "var notebookContainer = gd.closest('#notebook-container');\n",
              "if (notebookContainer) {{\n",
              "    x.observe(notebookContainer, {childList: true});\n",
              "}}\n",
              "\n",
              "// Listen for the clearing of the current output cell\n",
              "var outputEl = gd.closest('.output');\n",
              "if (outputEl) {{\n",
              "    x.observe(outputEl, {childList: true});\n",
              "}}\n",
              "\n",
              "                        })                };                            </script>        </div>\n",
              "</body>\n",
              "</html>"
            ]
          },
          "metadata": {}
        }
      ],
      "source": [
        "fig = px.line(df_forecast,\n",
        "              x='Date',\n",
        "              y='Close',\n",
        "              template = template_style,\n",
        "              title= '<b>prediction for 90 days</b>')\n",
        "\n",
        "# Display Plot\n",
        "fig.show()"
      ]
    },
    {
      "cell_type": "code",
      "execution_count": 41,
      "id": "6e6ac28b",
      "metadata": {
        "id": "6e6ac28b"
      },
      "outputs": [],
      "source": [
        "df_forecast.to_csv(r'DS_store/prediction_for_stock_microsoft.csv')"
      ]
    },
    {
      "cell_type": "code",
      "execution_count": 42,
      "id": "9d951a2e",
      "metadata": {
        "id": "9d951a2e"
      },
      "outputs": [],
      "source": [
        "pk.dump(model, open(EXPORT_Model, 'wb'))"
      ]
    }
  ],
  "metadata": {
    "kernelspec": {
      "display_name": "Python 3",
      "name": "python3"
    },
    "language_info": {
      "codemirror_mode": {
        "name": "ipython",
        "version": 3
      },
      "file_extension": ".py",
      "mimetype": "text/x-python",
      "name": "python",
      "nbconvert_exporter": "python",
      "pygments_lexer": "ipython3",
      "version": "3.9.12"
    },
    "colab": {
      "provenance": [],
      "gpuType": "T4"
    },
    "accelerator": "GPU"
  },
  "nbformat": 4,
  "nbformat_minor": 5
}