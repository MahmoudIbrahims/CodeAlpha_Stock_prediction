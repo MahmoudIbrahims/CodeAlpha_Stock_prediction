{
 "cells": [
  {
   "cell_type": "code",
   "execution_count": 1,
   "id": "232724de",
   "metadata": {},
   "outputs": [],
   "source": [
    "FILE_PATH =\"DS_store/MSFT.csv\""
   ]
  },
  {
   "cell_type": "code",
   "execution_count": 3,
   "id": "ca84e6da",
   "metadata": {},
   "outputs": [],
   "source": [
    "import pandas as pd"
   ]
  },
  {
   "cell_type": "code",
   "execution_count": 4,
   "id": "ee88c7c5",
   "metadata": {},
   "outputs": [],
   "source": [
    "df =pd.read_csv(FILE_PATH)"
   ]
  },
  {
   "cell_type": "code",
   "execution_count": 5,
   "id": "a94dd3b6",
   "metadata": {},
   "outputs": [
    {
     "data": {
      "text/html": [
       "<div>\n",
       "<style scoped>\n",
       "    .dataframe tbody tr th:only-of-type {\n",
       "        vertical-align: middle;\n",
       "    }\n",
       "\n",
       "    .dataframe tbody tr th {\n",
       "        vertical-align: top;\n",
       "    }\n",
       "\n",
       "    .dataframe thead th {\n",
       "        text-align: right;\n",
       "    }\n",
       "</style>\n",
       "<table border=\"1\" class=\"dataframe\">\n",
       "  <thead>\n",
       "    <tr style=\"text-align: right;\">\n",
       "      <th></th>\n",
       "      <th>Date</th>\n",
       "      <th>Open</th>\n",
       "      <th>High</th>\n",
       "      <th>Low</th>\n",
       "      <th>Close</th>\n",
       "      <th>Adj Close</th>\n",
       "      <th>Volume</th>\n",
       "    </tr>\n",
       "  </thead>\n",
       "  <tbody>\n",
       "    <tr>\n",
       "      <th>0</th>\n",
       "      <td>2020-07-06</td>\n",
       "      <td>208.830002</td>\n",
       "      <td>211.130005</td>\n",
       "      <td>208.089996</td>\n",
       "      <td>210.699997</td>\n",
       "      <td>203.416351</td>\n",
       "      <td>31897600</td>\n",
       "    </tr>\n",
       "    <tr>\n",
       "      <th>1</th>\n",
       "      <td>2020-07-07</td>\n",
       "      <td>210.449997</td>\n",
       "      <td>214.669998</td>\n",
       "      <td>207.990005</td>\n",
       "      <td>208.250000</td>\n",
       "      <td>201.051056</td>\n",
       "      <td>33600700</td>\n",
       "    </tr>\n",
       "    <tr>\n",
       "      <th>2</th>\n",
       "      <td>2020-07-08</td>\n",
       "      <td>210.070007</td>\n",
       "      <td>213.259995</td>\n",
       "      <td>208.690002</td>\n",
       "      <td>212.830002</td>\n",
       "      <td>205.472717</td>\n",
       "      <td>33600000</td>\n",
       "    </tr>\n",
       "    <tr>\n",
       "      <th>3</th>\n",
       "      <td>2020-07-09</td>\n",
       "      <td>216.330002</td>\n",
       "      <td>216.380005</td>\n",
       "      <td>211.470001</td>\n",
       "      <td>214.320007</td>\n",
       "      <td>206.911255</td>\n",
       "      <td>33121700</td>\n",
       "    </tr>\n",
       "    <tr>\n",
       "      <th>4</th>\n",
       "      <td>2020-07-10</td>\n",
       "      <td>213.619995</td>\n",
       "      <td>214.080002</td>\n",
       "      <td>211.080002</td>\n",
       "      <td>213.669998</td>\n",
       "      <td>206.283691</td>\n",
       "      <td>26177600</td>\n",
       "    </tr>\n",
       "  </tbody>\n",
       "</table>\n",
       "</div>"
      ],
      "text/plain": [
       "         Date        Open        High         Low       Close   Adj Close  \\\n",
       "0  2020-07-06  208.830002  211.130005  208.089996  210.699997  203.416351   \n",
       "1  2020-07-07  210.449997  214.669998  207.990005  208.250000  201.051056   \n",
       "2  2020-07-08  210.070007  213.259995  208.690002  212.830002  205.472717   \n",
       "3  2020-07-09  216.330002  216.380005  211.470001  214.320007  206.911255   \n",
       "4  2020-07-10  213.619995  214.080002  211.080002  213.669998  206.283691   \n",
       "\n",
       "     Volume  \n",
       "0  31897600  \n",
       "1  33600700  \n",
       "2  33600000  \n",
       "3  33121700  \n",
       "4  26177600  "
      ]
     },
     "execution_count": 5,
     "metadata": {},
     "output_type": "execute_result"
    }
   ],
   "source": [
    "df.head()"
   ]
  },
  {
   "cell_type": "code",
   "execution_count": 6,
   "id": "b8869b81",
   "metadata": {},
   "outputs": [
    {
     "data": {
      "text/plain": [
       "(1007, 7)"
      ]
     },
     "execution_count": 6,
     "metadata": {},
     "output_type": "execute_result"
    }
   ],
   "source": [
    "df.shape"
   ]
  },
  {
   "cell_type": "code",
   "execution_count": 7,
   "id": "e6aec908",
   "metadata": {},
   "outputs": [
    {
     "data": {
      "text/plain": [
       "Date         0\n",
       "Open         0\n",
       "High         0\n",
       "Low          0\n",
       "Close        0\n",
       "Adj Close    0\n",
       "Volume       0\n",
       "dtype: int64"
      ]
     },
     "execution_count": 7,
     "metadata": {},
     "output_type": "execute_result"
    }
   ],
   "source": [
    "df.isnull().sum()"
   ]
  },
  {
   "cell_type": "code",
   "execution_count": 43,
   "id": "f7fcaab0",
   "metadata": {},
   "outputs": [],
   "source": [
    "start_date =df[\"Date\"].head(1).iloc[0]"
   ]
  },
  {
   "cell_type": "code",
   "execution_count": 41,
   "id": "7f3627b0",
   "metadata": {},
   "outputs": [],
   "source": [
    "end_date =df[\"Date\"].tail(1).iloc[0]"
   ]
  },
  {
   "cell_type": "code",
   "execution_count": 44,
   "id": "f9848ca8",
   "metadata": {},
   "outputs": [
    {
     "name": "stdout",
     "output_type": "stream",
     "text": [
      "start_date = 2020-07-06\n",
      "end_date = 2024-07-05\n"
     ]
    }
   ],
   "source": [
    "print(\"start_date =\",start_date)\n",
    "print(\"end_date =\",end_date)"
   ]
  }
 ],
 "metadata": {
  "kernelspec": {
   "display_name": "Python 3 (ipykernel)",
   "language": "python",
   "name": "python3"
  },
  "language_info": {
   "codemirror_mode": {
    "name": "ipython",
    "version": 3
   },
   "file_extension": ".py",
   "mimetype": "text/x-python",
   "name": "python",
   "nbconvert_exporter": "python",
   "pygments_lexer": "ipython3",
   "version": "3.9.12"
  }
 },
 "nbformat": 4,
 "nbformat_minor": 5
}
